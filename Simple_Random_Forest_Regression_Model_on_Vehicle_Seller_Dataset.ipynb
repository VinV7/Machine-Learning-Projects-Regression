{
  "nbformat": 4,
  "nbformat_minor": 0,
  "metadata": {
    "colab": {
      "provenance": [],
      "toc_visible": true
    },
    "kernelspec": {
      "name": "python3",
      "display_name": "Python 3"
    },
    "language_info": {
      "name": "python"
    }
  },
  "cells": [
    {
      "cell_type": "markdown",
      "source": [
        "# Simple Multilinear Regression Model on Vehicle Seller Dataset\n",
        "\n"
      ],
      "metadata": {
        "id": "1gUxbH1bVu9K"
      }
    },
    {
      "cell_type": "markdown",
      "source": [
        "## Importing the Libraries"
      ],
      "metadata": {
        "id": "Nh4DqnV3W2WH"
      }
    },
    {
      "cell_type": "code",
      "source": [
        "import numpy as np\n",
        "import pandas as pd\n",
        "import matplotlib.pyplot as plt\n",
        "from sklearn.ensemble import RandomForestRegressor\n",
        "from sklearn.compose import ColumnTransformer\n",
        "from sklearn.preprocessing import OneHotEncoder\n",
        "from sklearn.model_selection import train_test_split\n",
        "from sklearn.metrics import mean_absolute_error, mean_squared_error, r2_score"
      ],
      "metadata": {
        "id": "M0JXLwyVW6UP"
      },
      "execution_count": 1,
      "outputs": []
    },
    {
      "cell_type": "markdown",
      "source": [
        "## Importing the Dataset"
      ],
      "metadata": {
        "id": "9Wvr-TvXXHvL"
      }
    },
    {
      "cell_type": "code",
      "source": [
        "mapping = {\n",
        "    '1': 'A',\n",
        "    '2': 'B',\n",
        "    '3': 'C',\n",
        "    '4': 'D',\n",
        "    '5': 'E',\n",
        "    '6': 'F',\n",
        "    '7': 'G',\n",
        "    '8': 'H',\n",
        "    '9': 'I',\n",
        "    '0': 'J',\n",
        "}\n",
        "\n",
        "dataset = pd.read_csv('cardata.csv')\n",
        "\n",
        "def replace_digits_with_letters(word):\n",
        "    result = ''\n",
        "    for char in word:\n",
        "        if char.isdigit():\n",
        "            result += mapping[char]\n",
        "        else:\n",
        "            result += char\n",
        "    return result\n",
        "\n",
        "dataset['Car_Name'] = dataset['Car_Name'].apply(replace_digits_with_letters)\n",
        "\n",
        "X = dataset.drop('Selling_Price', axis=1).values\n",
        "y = dataset['Selling_Price'].values\n",
        "X = pd.DataFrame(X)"
      ],
      "metadata": {
        "id": "845cZkwsXNra"
      },
      "execution_count": 2,
      "outputs": []
    },
    {
      "cell_type": "code",
      "source": [
        "print(X)"
      ],
      "metadata": {
        "id": "nZSqfj3CXch8",
        "colab": {
          "base_uri": "https://localhost:8080/"
        },
        "outputId": "9c4ccd51-03eb-47e2-a7ca-56277d8771fb"
      },
      "execution_count": 3,
      "outputs": [
        {
          "output_type": "stream",
          "name": "stdout",
          "text": [
            "           0     1     2      3       4       5       6  7\n",
            "0       ritz  2014  5.59  27000  Petrol  Dealer  Manual  0\n",
            "1        sxD  2013  9.54  43000  Diesel  Dealer  Manual  0\n",
            "2       ciaz  2017  9.85   6900  Petrol  Dealer  Manual  0\n",
            "3    wagon r  2011  4.15   5200  Petrol  Dealer  Manual  0\n",
            "4      swift  2014  6.87  42450  Diesel  Dealer  Manual  0\n",
            "..       ...   ...   ...    ...     ...     ...     ... ..\n",
            "296     city  2016  11.6  33988  Diesel  Dealer  Manual  0\n",
            "297     brio  2015   5.9  60000  Petrol  Dealer  Manual  0\n",
            "298     city  2009  11.0  87934  Petrol  Dealer  Manual  0\n",
            "299     city  2017  12.5   9000  Diesel  Dealer  Manual  0\n",
            "300     brio  2016   5.9   5464  Petrol  Dealer  Manual  0\n",
            "\n",
            "[301 rows x 8 columns]\n"
          ]
        }
      ]
    },
    {
      "cell_type": "code",
      "source": [
        "print(y)"
      ],
      "metadata": {
        "id": "EgxVxMjnXdvs",
        "colab": {
          "base_uri": "https://localhost:8080/"
        },
        "outputId": "73c77b7b-d980-4d22-8bd1-17e9f88490e0"
      },
      "execution_count": 4,
      "outputs": [
        {
          "output_type": "stream",
          "name": "stdout",
          "text": [
            "[ 3.35  4.75  7.25  2.85  4.6   9.25  6.75  6.5   8.75  7.45  2.85  6.85\n",
            "  7.5   6.1   2.25  7.75  7.25  7.75  3.25  2.65  2.85  4.9   4.4   2.5\n",
            "  2.9   3.    4.15  6.    1.95  7.45  3.1   2.35  4.95  6.    5.5   2.95\n",
            "  4.65  0.35  3.    2.25  5.85  2.55  1.95  5.5   1.25  7.5   2.65  1.05\n",
            "  5.8   7.75 14.9  23.   18.   16.    2.75  3.6   4.5   4.75  4.1  19.99\n",
            "  6.95  4.5  18.75 23.5  33.    4.75 19.75  9.25  4.35 14.25  3.95  4.5\n",
            "  7.45  2.65  4.9   3.95  5.5   1.5   5.25 14.5  14.73  4.75 23.   12.5\n",
            "  3.49  2.5  35.    5.9   3.45  4.75  3.8  11.25  3.51 23.    4.    5.85\n",
            " 20.75 17.    7.05  9.65  1.75  1.7   1.65  1.45  1.35  1.35  1.35  1.25\n",
            "  1.2   1.2   1.2   1.15  1.15  1.15  1.15  1.11  1.1   1.1   1.1   1.05\n",
            "  1.05  1.05  1.05  1.    0.95  0.9   0.9   0.75  0.8   0.78  0.75  0.75\n",
            "  0.75  0.72  0.65  0.65  0.65  0.65  0.6   0.6   0.6   0.6   0.6   0.6\n",
            "  0.6   0.6   0.55  0.55  0.52  0.51  0.5   0.5   0.5   0.5   0.5   0.48\n",
            "  0.48  0.48  0.48  0.45  0.45  0.45  0.45  0.45  0.45  0.45  0.45  0.42\n",
            "  0.42  0.4   0.4   0.4   0.4   0.4   0.38  0.38  0.35  0.35  0.35  0.31\n",
            "  0.3   0.3   0.3   0.27  0.25  0.25  0.25  0.25  0.25  0.2   0.2   0.2\n",
            "  0.2   0.2   0.2   0.18  0.17  0.16  0.15  0.12  0.1   3.25  4.4   2.95\n",
            "  2.75  5.25  5.75  5.15  7.9   4.85  3.1  11.75 11.25  2.9   5.25  4.5\n",
            "  2.9   3.15  6.45  4.5   3.5   4.5   6.    8.25  5.11  2.7   5.25  2.55\n",
            "  4.95  3.1   6.15  9.25 11.45  3.9   5.5   9.1   3.1  11.25  4.8   2.\n",
            "  5.35  4.75  4.4   6.25  5.95  5.2   3.75  5.95  4.    5.25 12.9   5.\n",
            "  5.4   7.2   5.25  3.   10.25  8.5   8.4   3.9   9.15  5.5   4.    6.6\n",
            "  4.    6.5   3.65  8.35  4.8   6.7   4.1   3.    7.5   2.25  5.3  10.9\n",
            "  8.65  9.7   6.    6.25  5.25  2.1   8.25  8.99  3.5   7.4   5.65  5.75\n",
            "  8.4  10.11  4.5   5.4   6.4   3.25  3.75  8.55  9.5   4.    3.35 11.5\n",
            "  5.3 ]\n"
          ]
        }
      ]
    },
    {
      "cell_type": "markdown",
      "source": [
        "## Applying one-hot-encoding on the Dataset"
      ],
      "metadata": {
        "id": "pIdflTNVXrJk"
      }
    },
    {
      "cell_type": "code",
      "source": [
        "encoder =  ColumnTransformer(transformers=[('encoder', OneHotEncoder(), [0, 4, 5, 6, 7])], remainder='passthrough')\n",
        "X = encoder.fit_transform(X)"
      ],
      "metadata": {
        "id": "YWidxUttXvXf"
      },
      "execution_count": 5,
      "outputs": []
    },
    {
      "cell_type": "code",
      "source": [
        "print(X)"
      ],
      "metadata": {
        "id": "0NsQP2tCasdl",
        "colab": {
          "base_uri": "https://localhost:8080/"
        },
        "outputId": "8582b36f-23e1-4c63-b0b2-5a80645b6cc8"
      },
      "execution_count": 6,
      "outputs": [
        {
          "output_type": "stream",
          "name": "stdout",
          "text": [
            "  (0, 90)\t1.0\n",
            "  (0, 100)\t1.0\n",
            "  (0, 101)\t1.0\n",
            "  (0, 104)\t1.0\n",
            "  (0, 105)\t1.0\n",
            "  (0, 108)\t2014.0\n",
            "  (0, 109)\t5.59\n",
            "  (0, 110)\t27000.0\n",
            "  (1, 93)\t1.0\n",
            "  (1, 99)\t1.0\n",
            "  (1, 101)\t1.0\n",
            "  (1, 104)\t1.0\n",
            "  (1, 105)\t1.0\n",
            "  (1, 108)\t2013.0\n",
            "  (1, 109)\t9.54\n",
            "  (1, 110)\t43000.0\n",
            "  (2, 68)\t1.0\n",
            "  (2, 100)\t1.0\n",
            "  (2, 101)\t1.0\n",
            "  (2, 104)\t1.0\n",
            "  (2, 105)\t1.0\n",
            "  (2, 108)\t2017.0\n",
            "  (2, 109)\t9.85\n",
            "  (2, 110)\t6900.0\n",
            "  (3, 96)\t1.0\n",
            "  :\t:\n",
            "  (297, 110)\t60000.0\n",
            "  (298, 69)\t1.0\n",
            "  (298, 100)\t1.0\n",
            "  (298, 101)\t1.0\n",
            "  (298, 104)\t1.0\n",
            "  (298, 105)\t1.0\n",
            "  (298, 108)\t2009.0\n",
            "  (298, 109)\t11.0\n",
            "  (298, 110)\t87934.0\n",
            "  (299, 69)\t1.0\n",
            "  (299, 99)\t1.0\n",
            "  (299, 101)\t1.0\n",
            "  (299, 104)\t1.0\n",
            "  (299, 105)\t1.0\n",
            "  (299, 108)\t2017.0\n",
            "  (299, 109)\t12.5\n",
            "  (299, 110)\t9000.0\n",
            "  (300, 66)\t1.0\n",
            "  (300, 100)\t1.0\n",
            "  (300, 101)\t1.0\n",
            "  (300, 104)\t1.0\n",
            "  (300, 105)\t1.0\n",
            "  (300, 108)\t2016.0\n",
            "  (300, 109)\t5.9\n",
            "  (300, 110)\t5464.0\n"
          ]
        }
      ]
    },
    {
      "cell_type": "markdown",
      "source": [
        "## Splitting the Dataset into Training and Test Dataset"
      ],
      "metadata": {
        "id": "Prv9G3-zbWir"
      }
    },
    {
      "cell_type": "code",
      "source": [
        "X_train, X_test, y_train, y_test = train_test_split(X, y, test_size=0.2, random_state=42)"
      ],
      "metadata": {
        "id": "ndvu5iXIbdiL"
      },
      "execution_count": 7,
      "outputs": []
    },
    {
      "cell_type": "code",
      "source": [
        "print(X_test)"
      ],
      "metadata": {
        "id": "8OtCDkQdboTz",
        "colab": {
          "base_uri": "https://localhost:8080/"
        },
        "outputId": "4609fdc0-1b18-409b-9fc3-24eeebe69ef5"
      },
      "execution_count": 8,
      "outputs": [
        {
          "output_type": "stream",
          "name": "stdout",
          "text": [
            "  (0, 30)\t1.0\n",
            "  (0, 100)\t1.0\n",
            "  (0, 102)\t1.0\n",
            "  (0, 103)\t1.0\n",
            "  (0, 105)\t1.0\n",
            "  (0, 108)\t2016.0\n",
            "  (0, 109)\t0.57\n",
            "  (0, 110)\t24000.0\n",
            "  (1, 69)\t1.0\n",
            "  (1, 100)\t1.0\n",
            "  (1, 101)\t1.0\n",
            "  (1, 104)\t1.0\n",
            "  (1, 105)\t1.0\n",
            "  (1, 108)\t2016.0\n",
            "  (1, 109)\t13.6\n",
            "  (1, 110)\t10980.0\n",
            "  (2, 94)\t1.0\n",
            "  (2, 99)\t1.0\n",
            "  (2, 101)\t1.0\n",
            "  (2, 104)\t1.0\n",
            "  (2, 105)\t1.0\n",
            "  (2, 108)\t2012.0\n",
            "  (2, 109)\t9.4\n",
            "  (2, 110)\t60000.0\n",
            "  (3, 8)\t1.0\n",
            "  :\t:\n",
            "  (57, 110)\t33988.0\n",
            "  (58, 69)\t1.0\n",
            "  (58, 100)\t1.0\n",
            "  (58, 101)\t1.0\n",
            "  (58, 104)\t1.0\n",
            "  (58, 105)\t1.0\n",
            "  (58, 108)\t2006.0\n",
            "  (58, 109)\t7.6\n",
            "  (58, 110)\t50456.0\n",
            "  (59, 87)\t1.0\n",
            "  (59, 100)\t1.0\n",
            "  (59, 101)\t1.0\n",
            "  (59, 103)\t1.0\n",
            "  (59, 105)\t1.0\n",
            "  (59, 108)\t2016.0\n",
            "  (59, 109)\t8.5\n",
            "  (59, 110)\t15059.0\n",
            "  (60, 33)\t1.0\n",
            "  (60, 100)\t1.0\n",
            "  (60, 102)\t1.0\n",
            "  (60, 104)\t1.0\n",
            "  (60, 105)\t1.0\n",
            "  (60, 108)\t2013.0\n",
            "  (60, 109)\t0.58\n",
            "  (60, 110)\t30000.0\n"
          ]
        }
      ]
    },
    {
      "cell_type": "code",
      "source": [
        "print(X_train)"
      ],
      "metadata": {
        "id": "qROj2tF_bpcT",
        "colab": {
          "base_uri": "https://localhost:8080/"
        },
        "outputId": "da4e6ef8-aef3-405f-8162-54e6301879fa"
      },
      "execution_count": 9,
      "outputs": [
        {
          "output_type": "stream",
          "name": "stdout",
          "text": [
            "  (0, 13)\t1.0\n",
            "  (0, 100)\t1.0\n",
            "  (0, 102)\t1.0\n",
            "  (0, 104)\t1.0\n",
            "  (0, 106)\t1.0\n",
            "  (0, 108)\t2008.0\n",
            "  (0, 109)\t0.75\n",
            "  (0, 110)\t26000.0\n",
            "  (1, 5)\t1.0\n",
            "  (1, 100)\t1.0\n",
            "  (1, 102)\t1.0\n",
            "  (1, 104)\t1.0\n",
            "  (1, 105)\t1.0\n",
            "  (1, 108)\t2017.0\n",
            "  (1, 109)\t0.95\n",
            "  (1, 110)\t3500.0\n",
            "  (2, 18)\t1.0\n",
            "  (2, 100)\t1.0\n",
            "  (2, 102)\t1.0\n",
            "  (2, 104)\t1.0\n",
            "  (2, 105)\t1.0\n",
            "  (2, 108)\t2008.0\n",
            "  (2, 109)\t0.787\n",
            "  (2, 110)\t50000.0\n",
            "  (3, 78)\t1.0\n",
            "  :\t:\n",
            "  (236, 110)\t45000.0\n",
            "  (237, 40)\t1.0\n",
            "  (237, 100)\t1.0\n",
            "  (237, 102)\t1.0\n",
            "  (237, 104)\t1.0\n",
            "  (237, 106)\t1.0\n",
            "  (237, 108)\t2014.0\n",
            "  (237, 109)\t3.45\n",
            "  (237, 110)\t16500.0\n",
            "  (238, 69)\t1.0\n",
            "  (238, 100)\t1.0\n",
            "  (238, 101)\t1.0\n",
            "  (238, 104)\t1.0\n",
            "  (238, 105)\t1.0\n",
            "  (238, 108)\t2011.0\n",
            "  (238, 109)\t10.0\n",
            "  (238, 110)\t69341.0\n",
            "  (239, 42)\t1.0\n",
            "  (239, 100)\t1.0\n",
            "  (239, 102)\t1.0\n",
            "  (239, 104)\t1.0\n",
            "  (239, 105)\t1.0\n",
            "  (239, 108)\t2017.0\n",
            "  (239, 109)\t1.78\n",
            "  (239, 110)\t4000.0\n"
          ]
        }
      ]
    },
    {
      "cell_type": "code",
      "source": [
        "print(y_train)"
      ],
      "metadata": {
        "id": "TugYItiWbq2D",
        "colab": {
          "base_uri": "https://localhost:8080/"
        },
        "outputId": "db76ee8f-cada-42c2-b2b4-1c5164984268"
      },
      "execution_count": 10,
      "outputs": [
        {
          "output_type": "stream",
          "name": "stdout",
          "text": [
            "[ 0.25  0.75  0.2   3.95  1.15 19.99 23.    6.75  0.38  3.1   4.4   5.65\n",
            "  4.5   2.    1.15  0.78 11.45  0.18  9.7   5.25  2.9   3.49 19.75  2.95\n",
            "  0.45  1.05  2.65  0.3  14.5   1.15  0.25  7.45  7.75  2.85  0.17  3.35\n",
            "  4.35  5.25  0.35  7.25  0.9   5.75  3.    9.25  2.7  14.25  2.35  0.35\n",
            "  0.5   6.6   0.6   3.25  0.27 20.75  3.1   0.52 35.   12.9   0.55  3.25\n",
            " 10.25  0.9   0.6   7.9   3.6   0.55  0.25  5.25  3.    0.16  3.9   4.85\n",
            "  1.15  0.4   1.1   6.    7.5   0.48  0.35  0.3   7.25  1.11  5.95  0.31\n",
            "  1.05  9.25  5.5   0.75  4.9   7.45 12.5   5.2   1.25  0.48  8.99  5.25\n",
            "  0.2   6.45  4.75  0.1   2.5   4.5   0.45  7.5   2.95  1.95  0.6   0.2\n",
            "  0.75  0.4  23.    5.85  3.1   6.    2.55  4.75  4.5   0.65  4.15  3.75\n",
            "  0.6   4.4   3.35  6.7   2.25  1.75  9.15  1.45  0.4   7.05  4.65  4.5\n",
            "  0.5   4.8   2.75  5.95  6.85  4.    4.8   6.    4.5   4.6   1.05  4.95\n",
            "  5.75  0.45 11.75  8.4   0.6  18.75  0.65  0.8   5.4   8.75  3.95  6.5\n",
            " 33.    1.25 11.25  0.48  5.85  1.    3.5   2.9   0.5   2.5   4.    1.2\n",
            "  4.75  5.15 11.25  2.25  4.4   6.4   3.9   0.12  2.25  1.05  4.    4.\n",
            "  2.55  5.3   3.25  0.45  5.5   3.15  0.6   0.2   3.5   3.    2.85  1.35\n",
            " 16.    0.72  7.2   4.75  7.75 14.73  5.25  5.5  11.25 18.    4.75  6.1\n",
            "  3.45  0.45  8.55  0.65  8.4   6.25  2.75 14.9   0.38  0.2  11.5   0.25\n",
            "  0.4   4.1   5.8   9.1   5.4   4.9   0.45  8.65  0.2   8.5   0.51  0.75\n",
            "  0.5   9.65  5.9   5.25  1.05  5.3   2.85  0.25  4.5   1.35  4.1   1.65]\n"
          ]
        }
      ]
    },
    {
      "cell_type": "code",
      "source": [
        "print(y_test)"
      ],
      "metadata": {
        "id": "P_ibNOjHbr1j",
        "colab": {
          "base_uri": "https://localhost:8080/"
        },
        "outputId": "1eb755c3-bd31-4915-a01d-1434e9e2560b"
      },
      "execution_count": 11,
      "outputs": [
        {
          "output_type": "stream",
          "name": "stdout",
          "text": [
            "[ 0.35 10.11  4.95  0.15  6.95  7.45  1.1   0.5   0.45  6.    9.25  1.1\n",
            "  7.5   0.4   6.15  2.65  0.95 17.    0.48  1.7   0.42  8.35  5.35  3.\n",
            "  0.6   3.75  5.    2.65  1.2   1.2   0.65  8.25  0.45  1.95  7.75  3.65\n",
            "  5.5   3.8   2.9   4.75  3.51  1.5   4.5   0.42  6.5   0.6   6.25  5.25\n",
            "  4.    3.1   5.11  1.35 23.5  23.    8.25 10.9   5.5   9.5   2.1   7.4\n",
            "  0.3 ]\n"
          ]
        }
      ]
    },
    {
      "cell_type": "markdown",
      "source": [
        "## Training the Model Using the Training Dataset"
      ],
      "metadata": {
        "id": "fn_db6dxcVK1"
      }
    },
    {
      "cell_type": "code",
      "source": [
        "reg_model = RandomForestRegressor(random_state=42, n_estimators=100, max_depth=20, min_samples_split=2, min_samples_leaf=1, max_features='sqrt', bootstrap=True)\n",
        "reg_model.fit(X_train, y_train)"
      ],
      "metadata": {
        "colab": {
          "base_uri": "https://localhost:8080/",
          "height": 75
        },
        "id": "kwWUNKJjcewv",
        "outputId": "2aa687de-1c99-4ab9-cb1f-96d86372048f"
      },
      "execution_count": 113,
      "outputs": [
        {
          "output_type": "execute_result",
          "data": {
            "text/plain": [
              "RandomForestRegressor(max_depth=20, max_features='sqrt', random_state=42)"
            ],
            "text/html": [
              "<style>#sk-container-id-25 {color: black;background-color: white;}#sk-container-id-25 pre{padding: 0;}#sk-container-id-25 div.sk-toggleable {background-color: white;}#sk-container-id-25 label.sk-toggleable__label {cursor: pointer;display: block;width: 100%;margin-bottom: 0;padding: 0.3em;box-sizing: border-box;text-align: center;}#sk-container-id-25 label.sk-toggleable__label-arrow:before {content: \"▸\";float: left;margin-right: 0.25em;color: #696969;}#sk-container-id-25 label.sk-toggleable__label-arrow:hover:before {color: black;}#sk-container-id-25 div.sk-estimator:hover label.sk-toggleable__label-arrow:before {color: black;}#sk-container-id-25 div.sk-toggleable__content {max-height: 0;max-width: 0;overflow: hidden;text-align: left;background-color: #f0f8ff;}#sk-container-id-25 div.sk-toggleable__content pre {margin: 0.2em;color: black;border-radius: 0.25em;background-color: #f0f8ff;}#sk-container-id-25 input.sk-toggleable__control:checked~div.sk-toggleable__content {max-height: 200px;max-width: 100%;overflow: auto;}#sk-container-id-25 input.sk-toggleable__control:checked~label.sk-toggleable__label-arrow:before {content: \"▾\";}#sk-container-id-25 div.sk-estimator input.sk-toggleable__control:checked~label.sk-toggleable__label {background-color: #d4ebff;}#sk-container-id-25 div.sk-label input.sk-toggleable__control:checked~label.sk-toggleable__label {background-color: #d4ebff;}#sk-container-id-25 input.sk-hidden--visually {border: 0;clip: rect(1px 1px 1px 1px);clip: rect(1px, 1px, 1px, 1px);height: 1px;margin: -1px;overflow: hidden;padding: 0;position: absolute;width: 1px;}#sk-container-id-25 div.sk-estimator {font-family: monospace;background-color: #f0f8ff;border: 1px dotted black;border-radius: 0.25em;box-sizing: border-box;margin-bottom: 0.5em;}#sk-container-id-25 div.sk-estimator:hover {background-color: #d4ebff;}#sk-container-id-25 div.sk-parallel-item::after {content: \"\";width: 100%;border-bottom: 1px solid gray;flex-grow: 1;}#sk-container-id-25 div.sk-label:hover label.sk-toggleable__label {background-color: #d4ebff;}#sk-container-id-25 div.sk-serial::before {content: \"\";position: absolute;border-left: 1px solid gray;box-sizing: border-box;top: 0;bottom: 0;left: 50%;z-index: 0;}#sk-container-id-25 div.sk-serial {display: flex;flex-direction: column;align-items: center;background-color: white;padding-right: 0.2em;padding-left: 0.2em;position: relative;}#sk-container-id-25 div.sk-item {position: relative;z-index: 1;}#sk-container-id-25 div.sk-parallel {display: flex;align-items: stretch;justify-content: center;background-color: white;position: relative;}#sk-container-id-25 div.sk-item::before, #sk-container-id-25 div.sk-parallel-item::before {content: \"\";position: absolute;border-left: 1px solid gray;box-sizing: border-box;top: 0;bottom: 0;left: 50%;z-index: -1;}#sk-container-id-25 div.sk-parallel-item {display: flex;flex-direction: column;z-index: 1;position: relative;background-color: white;}#sk-container-id-25 div.sk-parallel-item:first-child::after {align-self: flex-end;width: 50%;}#sk-container-id-25 div.sk-parallel-item:last-child::after {align-self: flex-start;width: 50%;}#sk-container-id-25 div.sk-parallel-item:only-child::after {width: 0;}#sk-container-id-25 div.sk-dashed-wrapped {border: 1px dashed gray;margin: 0 0.4em 0.5em 0.4em;box-sizing: border-box;padding-bottom: 0.4em;background-color: white;}#sk-container-id-25 div.sk-label label {font-family: monospace;font-weight: bold;display: inline-block;line-height: 1.2em;}#sk-container-id-25 div.sk-label-container {text-align: center;}#sk-container-id-25 div.sk-container {/* jupyter's `normalize.less` sets `[hidden] { display: none; }` but bootstrap.min.css set `[hidden] { display: none !important; }` so we also need the `!important` here to be able to override the default hidden behavior on the sphinx rendered scikit-learn.org. See: https://github.com/scikit-learn/scikit-learn/issues/21755 */display: inline-block !important;position: relative;}#sk-container-id-25 div.sk-text-repr-fallback {display: none;}</style><div id=\"sk-container-id-25\" class=\"sk-top-container\"><div class=\"sk-text-repr-fallback\"><pre>RandomForestRegressor(max_depth=20, max_features=&#x27;sqrt&#x27;, random_state=42)</pre><b>In a Jupyter environment, please rerun this cell to show the HTML representation or trust the notebook. <br />On GitHub, the HTML representation is unable to render, please try loading this page with nbviewer.org.</b></div><div class=\"sk-container\" hidden><div class=\"sk-item\"><div class=\"sk-estimator sk-toggleable\"><input class=\"sk-toggleable__control sk-hidden--visually\" id=\"sk-estimator-id-25\" type=\"checkbox\" checked><label for=\"sk-estimator-id-25\" class=\"sk-toggleable__label sk-toggleable__label-arrow\">RandomForestRegressor</label><div class=\"sk-toggleable__content\"><pre>RandomForestRegressor(max_depth=20, max_features=&#x27;sqrt&#x27;, random_state=42)</pre></div></div></div></div></div>"
            ]
          },
          "metadata": {},
          "execution_count": 113
        }
      ]
    },
    {
      "cell_type": "markdown",
      "source": [
        "## Predicting the y_pred on the X_test Independent Dataset"
      ],
      "metadata": {
        "id": "jrLQkDw5f_rg"
      }
    },
    {
      "cell_type": "code",
      "source": [
        "y_pred = reg_model.predict(X_test)"
      ],
      "metadata": {
        "id": "ja1dqez_gIeA"
      },
      "execution_count": 114,
      "outputs": []
    },
    {
      "cell_type": "code",
      "source": [
        "print(y_pred)"
      ],
      "metadata": {
        "id": "YKmC52ccgSQZ",
        "colab": {
          "base_uri": "https://localhost:8080/"
        },
        "outputId": "406d57e5-8aaf-40db-e6af-3aac11c07f4a"
      },
      "execution_count": 72,
      "outputs": [
        {
          "output_type": "stream",
          "name": "stdout",
          "text": [
            "[ 0.82571077  9.1454      5.03501795  0.31901504  6.96293371  6.62266667\n",
            "  1.03142333  0.5734704   0.54063656  6.22766667  9.13123333  0.90793333\n",
            "  7.1728      0.90214488  5.68701795  2.83244855  0.8534708  10.7674\n",
            "  0.68205591  1.31823584  0.49331278  7.56        5.88601795  3.17914652\n",
            "  0.53007431  3.69635637  5.08440845  3.37005128  1.25805564  1.07186251\n",
            "  0.50728509  8.867       0.44133323  2.73160658  8.14953333  3.87960405\n",
            "  6.3443125   5.164       2.5215075   5.44516667  6.61098571  4.60918571\n",
            "  4.29038461  0.52411072  6.72401795  0.56081943  7.78462121  5.638\n",
            "  3.32818385  3.97371795  5.582       1.24092231 22.61       19.995\n",
            "  5.68501795  8.28225455  5.39201372  9.4425      3.61422197  6.32953333\n",
            "  0.30690689]\n"
          ]
        }
      ]
    },
    {
      "cell_type": "markdown",
      "source": [
        "## Evaluating the Performance (MAE, MSE, R2, Accuracy)"
      ],
      "metadata": {
        "id": "PE5O3Jr6k2FJ"
      }
    },
    {
      "cell_type": "code",
      "source": [
        "mse = mean_squared_error(y_test, y_pred)\n",
        "print(f\"Mean Squared Error : {mse}\")"
      ],
      "metadata": {
        "colab": {
          "base_uri": "https://localhost:8080/"
        },
        "id": "8M4vay8Rk7Q9",
        "outputId": "3b923b2b-18ac-4291-b978-20cfa4167bc7"
      },
      "execution_count": 115,
      "outputs": [
        {
          "output_type": "stream",
          "name": "stdout",
          "text": [
            "Mean Squared Error : 1.5346308002373659\n"
          ]
        }
      ]
    },
    {
      "cell_type": "code",
      "source": [
        "mae = mean_absolute_error(y_test, y_pred)\n",
        "print(f\"Mean Absolute Error : {mse}\")"
      ],
      "metadata": {
        "colab": {
          "base_uri": "https://localhost:8080/"
        },
        "id": "xiqkRWZXmi52",
        "outputId": "307265b5-6db1-4692-ee80-384fdd417f96"
      },
      "execution_count": 116,
      "outputs": [
        {
          "output_type": "stream",
          "name": "stdout",
          "text": [
            "Mean Absolute Error : 1.5346308002373659\n"
          ]
        }
      ]
    },
    {
      "cell_type": "code",
      "source": [
        "r2sc = r2_score(y_test, y_pred)\n",
        "print(f\"R2 Scoring : {r2sc}\")"
      ],
      "metadata": {
        "colab": {
          "base_uri": "https://localhost:8080/"
        },
        "id": "mZJroYKAmrx0",
        "outputId": "da40b17e-853b-4da4-f75c-dab2524fd343"
      },
      "execution_count": 117,
      "outputs": [
        {
          "output_type": "stream",
          "name": "stdout",
          "text": [
            "R2 Scoring : 0.9333799930761197\n"
          ]
        }
      ]
    },
    {
      "cell_type": "markdown",
      "source": [
        "## Plotting"
      ],
      "metadata": {
        "id": "uUmy_cAQuxlp"
      }
    },
    {
      "cell_type": "code",
      "source": [
        "plt.figure(figsize=(8, 6))\n",
        "plt.plot(y_test, label='Actual', color='blue')\n",
        "plt.plot(y_pred, label='Predicted', color='orange')\n",
        "plt.xlabel('Index')\n",
        "plt.ylabel('Value')\n",
        "plt.title('Actual vs Predicted Values')\n",
        "plt.legend()\n",
        "plt.show()"
      ],
      "metadata": {
        "colab": {
          "base_uri": "https://localhost:8080/",
          "height": 564
        },
        "id": "JdjtMptSuyts",
        "outputId": "5075a584-ff9a-484b-998d-e00f0ac91e82"
      },
      "execution_count": 57,
      "outputs": [
        {
          "output_type": "display_data",
          "data": {
            "text/plain": [
              "<Figure size 800x600 with 1 Axes>"
            ],
            "image/png": "[encoded data removed]"
          },
          "metadata": {}
        }
      ]
    }
  ]
}